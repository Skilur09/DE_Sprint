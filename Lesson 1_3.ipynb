{
 "cells": [
  {
   "cell_type": "raw",
   "metadata": {},
   "source": [
    "Практическая работа №2 Основы Python\n",
    "1. Необходимо спарсить данные о вакансиях python разработчиков с сайта hh.ru, введя в поиск “python разработчик” и указав, что мы рассматриваем все регионы. Необходимо спарсить:\n",
    "\n",
    "Название вакансии\n",
    "Требуемый опыт работы\n",
    "Заработную плату\n",
    "Регион"
   ]
  },
  {
   "cell_type": "code",
   "execution_count": 102,
   "metadata": {},
   "outputs": [
    {
     "name": "stdout",
     "output_type": "stream",
     "text": [
      "[{'title': 'Программист Python', 'salary': '80\\u202f000 – 220\\u202f000 руб.', 'area': 'Москва', 'requirements': 'Уверенный опыт программирования на Python (не менее 3 года). Уверенные знания SQL и опыт работы с базами данных. '}, {'title': 'Python-разработчик (Django, DRF)', 'salary': '60\\u202f000 – 150\\u202f000 руб.', 'area': 'Москва, Сухаревская', 'requirements': 'Опыт веб-разработки от одного года, программирования не менее трёх лет. Умение разбираться в чужом коде. Опыт разработки сложных проектов. '}, {'title': 'Python-разработчик в R&D отдел', 'salary': '100\\u202f000 – 150\\u202f000 руб.', 'area': 'Москва, Трубная и еще\\xa02\\xa0', 'requirements': 'Уверенное знание Python3. Умение использовать ООП. Знание сетевых протоколов разного уровня (TCP, UDP, HTTP, WebSocket, etc) и способов сериализации...'}, {'title': 'Программист Python (Senior)', 'salary': 'от 300\\u202f000 руб.', 'area': 'Москва', 'requirements': 'Опыт коммерческой разработки. Опыт работы python программистом 7+ лет. Отличное знание Python(>3.6), ООП, паттернов проектирования. '}, {'title': 'Python Developer (Remote)', 'salary': '200\\u202f000 – 350\\u202f000 руб.', 'area': 'Москва', 'requirements': 'Технический английский. Желательно:'}, {'title': 'Python разработчик', 'salary': '100\\u202f000 – 120\\u202f000 руб.', 'area': 'Москва, Авиамоторная и еще\\xa02\\xa0', 'requirements': 'Высшее техническое/математическое образование. Опыт работы качестве Python-разработчика не менее 2-x лет. Уверенное владение стеком технологий для разработки...'}, {'title': 'Python-разработчик систем сбора', 'salary': '100\\u202f000 – 150\\u202f000 руб.', 'area': 'Москва, Трубная и еще\\xa02\\xa0', 'requirements': 'Уверенное знание Python3. Опыт разработки систем сбора. Опыт многопоточной и асинхронной разработки (threading, asyncio), знание примитивов синхронизации, умение масштабировать...'}, {'title': 'Middle Python Developer', 'salary': '130\\u202f000 – 250\\u202f000 руб.', 'area': 'Москва', 'requirements': 'Опыт программирования на Python не менее 2 лет. Знание Django. Владение javascript, typescript. Опыт разработки REST API сервисов для веб...'}, {'title': 'Middle Python разработчик', 'salary': '100\\u202f000 – 200\\u202f000 руб.', 'area': 'Москва, Проспект Вернадского', 'requirements': 'Знание Python 3.6+, веб-фреймоворков (Flask или Django), ORM (SQLAlchemy или Django ORM). Опыт работы c ОС Linux. '}, {'title': 'Middle Python разработчик (удаленно)', 'salary': '100\\u202f000 – 120\\u202f000 руб.', 'area': 'Москва', 'requirements': 'Уверенно знаешь Python. Работаешь с фреймворками Django/Flask/FastAPI. Знаешь SQL, PostrgeSQL. Имеешь опыт работы с Nginx, GitHub, Docker. '}, {'title': 'Руководитель веб-разработки на Python', 'salary': '150\\u202f000 – 250\\u202f000 руб.', 'area': 'Москва', 'requirements': 'Опыт коммерческих проектов на Python. Знание Python на уровне не ниже middle. Понимание вэб-стэка. Навыки проектирования микросервисной архитектуры. '}, {'title': 'Python Developer', 'salary': '100\\u202f000 – 250\\u202f000 руб.', 'area': 'Москва', 'requirements': 'Опыт работы с Python (Django) от 1го года. Понимание принципов построения ПО. Знание и умение общаться на тему clean...'}, {'title': 'Middle/Senior Python разработчик (удаленно)', 'salary': 'до 250\\u202f000 руб.', 'area': 'Москва', 'requirements': 'Готовность вникать во все этапы разработки ПО. Эффективно использовать имеющийся опыт и знания: способность самостоятельно. Находить решения нетривиальных задач. '}, {'title': 'Middle Python Developer', 'salary': 'от 200\\u202f000 руб.', 'area': 'Москва', 'requirements': 'Опыт работы на Python (Django/Flask или другая web разработка). Опыт разработки ИТ продуктов и сервисов. Знание SQL на уровне...'}]\n",
      "14\n"
     ]
    }
   ],
   "source": [
    "import requests\n",
    "import csv\n",
    "from bs4 import BeautifulSoup as bs\n",
    "\n",
    "headers1 = {'user-agent' : 'Mozilla/5.0 (Windows NT 10.0; Win64; x64) AppleWebKit/537.36 (KHTML, like Gecko) Chrome/74.0.3729.169 Safari/537.36'}\n",
    "headers2 = {'accept' : '*/*',\n",
    "            'user-agent' : 'Mozilla/5.0 (Windows NT 10.0; Win64; x64) AppleWebKit/537.36 (KHTML, like Gecko) Chrome/74.0.3729.169 Safari/537.36'}\n",
    "\n",
    "base_url = 'https://hh.ru/search/vacancy?area=1&search_period=3&text=\"python разработчик\"&page=0'\n",
    "\n",
    "jobs = []\n",
    "urls = []\n",
    "urls.append(base_url)\n",
    "session = requests.Session() #иммулирует действия одного пользователя, а не разные запросы\n",
    "request = session.get(base_url, headers = headers1)\n",
    "soup=bs(request.text,'lxml')\n",
    "tags = soup.find_all(attrs={'data-qa': 'vacancy-serp__vacancy vacancy-serp__vacancy_standard_plus'})\n",
    "for tag in tags:\n",
    "    try:\n",
    "        title = tag.find(attrs={'data-qa': 'serp-item__title'}).text\n",
    "        salary = tag.find(attrs={'data-qa': 'vacancy-serp__vacancy-compensation'}).text\n",
    "        area = tag.find(attrs={'data-qa': 'vacancy-serp__vacancy-address'}).text\n",
    "        requirements = tag.find(attrs={'data-qa': 'vacancy-serp__vacancy_snippet_requirement'}).text\n",
    "        jobs.append({\n",
    "                    'title': title,\n",
    "                    'salary': salary,\n",
    "                    'area': area,\n",
    "                    'requirements': requirements,\n",
    "                 })\n",
    "    except:\n",
    "        pass\n",
    "print(jobs)\n",
    "print(len(jobs))"
   ]
  },
  {
   "cell_type": "markdown",
   "metadata": {},
   "source": [
    "2. Палиндром строки"
   ]
  },
  {
   "cell_type": "code",
   "execution_count": 42,
   "metadata": {},
   "outputs": [
    {
     "name": "stdout",
     "output_type": "stream",
     "text": [
      "Введите строку: terra cat\n",
      "false\n"
     ]
    }
   ],
   "source": [
    "a=input('Введите строку: ').replace(' ','')\n",
    "check_value=1\n",
    "for c in range(math.ceil(len(a)/2)):\n",
    "    if(a[c]!=a[-c-1]):\n",
    "        check_value=0\n",
    "if(check_value):\n",
    "    print('true')\n",
    "else:\n",
    "    print('false')"
   ]
  },
  {
   "cell_type": "markdown",
   "metadata": {},
   "source": [
    "3. Перевод арабского числа в римское"
   ]
  },
  {
   "cell_type": "code",
   "execution_count": null,
   "metadata": {},
   "outputs": [],
   "source": [
    "arabic_to_rom={1:'I', \n",
    "               5:'V',\n",
    "              10:'X',\n",
    "              50:'L',\n",
    "             100:'C',\n",
    "             500:'D',\n",
    "            1000:'M'}"
   ]
  },
  {
   "cell_type": "code",
   "execution_count": 119,
   "metadata": {},
   "outputs": [],
   "source": [
    "def check_number(num,pow_of_number):\n",
    "    out=''\n",
    "    if(pow_of_number==10):\n",
    "        if(num==9):\n",
    "            return 'IX'\n",
    "        if(num==4):\n",
    "            return 'IV'\n",
    "        if((num//5)==1):\n",
    "            out='V'+'I'*(num%5)\n",
    "        else:\n",
    "            out='I'*(num%5)\n",
    "            \n",
    "    if(pow_of_number==100):\n",
    "        if(num==90):\n",
    "            return 'XC'\n",
    "        if(num==40):\n",
    "            return 'XL'\n",
    "        if((num//50)==1):\n",
    "            out='L'+'X'*int((num/10)%5)\n",
    "        else:\n",
    "            out='X'*int((num/10)%5)\n",
    "\n",
    "    if(pow_of_number==1000):\n",
    "        if(num==900):\n",
    "            return 'CM'\n",
    "        if(num==400):\n",
    "            return 'CD'\n",
    "        if((num//500)==1):\n",
    "            out='D'+'C'*int((num/100)%5)\n",
    "        else:\n",
    "            out='C'*int((num/100)%5)\n",
    "\n",
    "    if(pow_of_number==10000):\n",
    "        out='M'*int((num/1000)%5)\n",
    "\n",
    "    return out\n",
    "            \n",
    "        "
   ]
  },
  {
   "cell_type": "code",
   "execution_count": 132,
   "metadata": {},
   "outputs": [
    {
     "data": {
      "text/plain": [
       "'M'"
      ]
     },
     "execution_count": 132,
     "metadata": {},
     "output_type": "execute_result"
    }
   ],
   "source": [
    "\n",
    "o=check_number(1000,10000)\n",
    "o"
   ]
  },
  {
   "cell_type": "code",
   "execution_count": 114,
   "metadata": {},
   "outputs": [
    {
     "data": {
      "text/plain": [
       "3"
      ]
     },
     "execution_count": 114,
     "metadata": {},
     "output_type": "execute_result"
    }
   ],
   "source": [
    "int(80/10)%5"
   ]
  },
  {
   "cell_type": "code",
   "execution_count": 136,
   "metadata": {},
   "outputs": [
    {
     "name": "stdout",
     "output_type": "stream",
     "text": [
      "Введите год: 1956\n"
     ]
    }
   ],
   "source": [
    "year=input('Введите год: ')\n",
    "f=list(str(year))[::-1]\n",
    "rom_year=''\n",
    "for i in range(len(f)):\n",
    "    a=int(f[i])*pow(10,i)\n",
    "    rom_year=check_number(a,pow(10,i+1))+rom_year"
   ]
  },
  {
   "cell_type": "code",
   "execution_count": 137,
   "metadata": {},
   "outputs": [
    {
     "data": {
      "text/plain": [
       "'MCMLVI'"
      ]
     },
     "execution_count": 137,
     "metadata": {},
     "output_type": "execute_result"
    }
   ],
   "source": [
    "rom_year"
   ]
  },
  {
   "cell_type": "code",
   "execution_count": null,
   "metadata": {},
   "outputs": [],
   "source": []
  },
  {
   "cell_type": "markdown",
   "metadata": {},
   "source": [
    "4. Валидность скобок"
   ]
  },
  {
   "cell_type": "code",
   "execution_count": 77,
   "metadata": {},
   "outputs": [
    {
     "name": "stdout",
     "output_type": "stream",
     "text": [
      "Введите строку скобок: {]}\n",
      "{ 100 \n",
      "\n",
      "] 99 \n",
      "\n",
      "} -1 \n",
      "\n",
      "} -1 \n",
      "\n",
      "false\n",
      "Order check= 0\n"
     ]
    }
   ],
   "source": [
    "value={'[':1,']':-1,\n",
    "       '(':10,')':-10,\n",
    "       '{':100,'}':-100,}\n",
    "order_check=1\n",
    "a=input('Введите строку скобок: ')\n",
    "sum=0\n",
    "for c in a:\n",
    "    sum+=value[c]\n",
    "    print(c, sum, '\\n')\n",
    "    if(sum<0):\n",
    "        order_check=0\n",
    "        print(c, sum, '\\n')\n",
    "        #print('false')\n",
    "if(sum==0):\n",
    "    print('true')\n",
    "else:\n",
    "    print('false')\n",
    "print('Order check=',order_check)\n",
    "        "
   ]
  },
  {
   "cell_type": "code",
   "execution_count": null,
   "metadata": {},
   "outputs": [],
   "source": []
  },
  {
   "cell_type": "markdown",
   "metadata": {},
   "source": [
    "5. Умножить два бинарных числа в формате строк"
   ]
  },
  {
   "cell_type": "code",
   "execution_count": 31,
   "metadata": {},
   "outputs": [],
   "source": [
    "def add_bit(x,y,u):\n",
    "    if((x=='1')&(y=='0'))|((x=='0')&(y=='1')):\n",
    "        if(u=='1'):\n",
    "            return ['1','0']\n",
    "        else:\n",
    "            return ['0','1']\n",
    "    if((x=='0')&(y=='0')):\n",
    "        if(u=='1'):\n",
    "            return ['0','1']\n",
    "        else:\n",
    "            return ['0','0']\n",
    "    if((x=='1')&(y=='1')):\n",
    "        if(u=='1'):\n",
    "            return ['1','1']\n",
    "        else:\n",
    "            return ['1','0']\n",
    "    \n",
    "def add_all(x, y):\n",
    "    u='0'\n",
    "    if(len(x)<len(y)):\n",
    "        x='0'*(len(y)-len(x))+x\n",
    "    else:\n",
    "        y='0'*(len(x)-len(y))+y\n",
    "    a=''\n",
    "    b=''\n",
    "    for i in range(len(x)-1,-1,-1):\n",
    "        [u,a]=add_bit(x[i],y[i],u)\n",
    "        b=b+a\n",
    "    b=b[::-1]\n",
    "    if(u=='1'):\n",
    "        b='1'+b\n",
    "    return b\n",
    "        "
   ]
  },
  {
   "cell_type": "code",
   "execution_count": 33,
   "metadata": {},
   "outputs": [
    {
     "name": "stdout",
     "output_type": "stream",
     "text": [
      "Введите первое двоичное число: 111\n",
      "Введите второе двоичное число: 101\n",
      "100011\n"
     ]
    }
   ],
   "source": [
    "a=input('Введите первое двоичное число: ')\n",
    "b=input('Введите второе двоичное число: ')\n",
    "b=b[::-1]\n",
    "s='0'\n",
    "for i in range(len(b)):\n",
    "    if(b[i]=='1'):\n",
    "        a_t=a+'0'*i\n",
    "        s=add_all(s,a_t)\n",
    "print(s)\n",
    "\n"
   ]
  },
  {
   "cell_type": "code",
   "execution_count": null,
   "metadata": {},
   "outputs": [],
   "source": []
  }
 ],
 "metadata": {
  "kernelspec": {
   "display_name": "Python 3",
   "language": "python",
   "name": "python3"
  },
  "language_info": {
   "codemirror_mode": {
    "name": "ipython",
    "version": 3
   },
   "file_extension": ".py",
   "mimetype": "text/x-python",
   "name": "python",
   "nbconvert_exporter": "python",
   "pygments_lexer": "ipython3",
   "version": "3.8.5"
  }
 },
 "nbformat": 4,
 "nbformat_minor": 4
}
